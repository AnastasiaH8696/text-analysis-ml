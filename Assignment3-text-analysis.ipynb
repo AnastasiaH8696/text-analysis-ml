{
 "cells": [
  {
   "cell_type": "markdown",
   "metadata": {},
   "source": [
    "# Assignment 3 - Text Analysis\n",
    "An explanation this assignment could be found in the .pdf explanation document"
   ]
  },
  {
   "cell_type": "markdown",
   "metadata": {},
   "source": [
    "\n",
    "## Materials to review for this assignment\n",
    "<h4>From Moodle:</h4> \n",
    "<h5><u>Review the notebooks regarding the following python topics</u>:</h5>\n",
    "<div class=\"alert alert-info\">\n",
    "&#x2714; <b>Working with strings</b> (tutorial notebook)<br/>\n",
    "&#x2714; <b>Text Analysis</b> (tutorial notebook)<br/>\n",
    "&#x2714; <b>Hebrew text analysis tools (tokenizer, wordnet)</b> (moodle example)<br/>\n",
    "&#x2714; <b>(brief review) All previous notebooks</b><br/>\n",
    "</div> \n",
    "<h5><u>Review the presentations regarding the following topics</u>:</h5>\n",
    "<div class=\"alert alert-info\">\n",
    "&#x2714; <b>Text Analysis</b> (lecture presentation)<br/>\n",
    "&#x2714; <b>(brief review) All other presentations</b><br/>\n",
    "</div>"
   ]
  },
  {
   "cell_type": "markdown",
   "metadata": {},
   "source": [
    "## Personal Details:"
   ]
  },
  {
   "cell_type": "code",
   "execution_count": 94,
   "metadata": {},
   "outputs": [],
   "source": [
    "# Details Student 1:\n",
    "student_first = 'Alon Bril 316265008'\n",
    "\n",
    "# Details Student 2:\n",
    "student_second = 'Anastasia Hamandritov 321924433'"
   ]
  },
  {
   "cell_type": "markdown",
   "metadata": {},
   "source": [
    "## Preceding Step - import modules (packages)\n",
    "This step is necessary in order to use external modules (packages). <br/>"
   ]
  },
  {
   "cell_type": "code",
   "execution_count": 95,
   "metadata": {},
   "outputs": [],
   "source": [
    "# --------------------------------------\n",
    "import pandas as pd\n",
    "import numpy as np\n",
    "# --------------------------------------\n",
    "\n",
    "\n",
    "# --------------------------------------\n",
    "# ------------- visualizations:\n",
    "import seaborn as sns\n",
    "import matplotlib.pyplot as plt\n",
    "from matplotlib.colors import ListedColormap\n",
    "# --------------------------------------\n",
    "\n",
    "\n",
    "# ---------------------------------------\n",
    "import sklearn\n",
    "from sklearn import preprocessing, metrics, pipeline, model_selection, feature_extraction \n",
    "from sklearn import naive_bayes, linear_model, svm, neural_network, neighbors, tree\n",
    "from sklearn import decomposition, cluster\n",
    "\n",
    "from sklearn.model_selection import train_test_split, cross_val_score, GridSearchCV \n",
    "from sklearn.pipeline import Pipeline\n",
    "from sklearn.metrics import accuracy_score, confusion_matrix\n",
    "from sklearn.metrics import precision_score, recall_score, f1_score\n",
    "from sklearn.metrics import mean_squared_error, r2_score, silhouette_score\n",
    "from sklearn.preprocessing import MinMaxScaler, StandardScaler, LabelEncoder\n",
    "\n",
    "from sklearn.svm import LinearSVC\n",
    "from sklearn.neural_network import MLPClassifier\n",
    "from sklearn.linear_model import Perceptron, SGDClassifier\n",
    "from sklearn.decomposition import PCA\n",
    "from sklearn.cluster import KMeans\n",
    "from sklearn.naive_bayes import MultinomialNB, GaussianNB\n",
    "from sklearn.neighbors import KNeighborsClassifier\n",
    "from sklearn.tree import DecisionTreeClassifier\n",
    "# ---------------------------------------\n",
    "\n",
    "\n",
    "# ----------------- output and visualizations: \n",
    "import warnings\n",
    "from sklearn.exceptions import ConvergenceWarning\n",
    "warnings.simplefilter(\"ignore\")\n",
    "warnings.simplefilter(action='ignore', category=FutureWarning)\n",
    "warnings.simplefilter(\"ignore\", category=ConvergenceWarning)\n",
    "# show several prints in one cell. This will allow us to condence every trick in one cell.\n",
    "from IPython.core.interactiveshell import InteractiveShell\n",
    "InteractiveShell.ast_node_interactivity = \"all\"\n",
    "%matplotlib inline\n",
    "pd.pandas.set_option('display.max_columns', None)\n",
    "pd.set_option('display.float_format', lambda x: '%.3f' % x)\n",
    "# ---------------------------------------"
   ]
  },
  {
   "cell_type": "markdown",
   "metadata": {},
   "source": [
    "### Text analysis and String manipulation imports:"
   ]
  },
  {
   "cell_type": "code",
   "execution_count": 96,
   "metadata": {},
   "outputs": [],
   "source": [
    "# --------------------------------------\n",
    "# --------- Text analysis and Hebrew text analysis imports:\n",
    "# vectorizers:\n",
    "from sklearn.feature_extraction import text\n",
    "from sklearn.feature_extraction.text import CountVectorizer, TfidfVectorizer\n",
    "\n",
    "# regular expressions:\n",
    "import re\n",
    "# --------------------------------------"
   ]
  },
  {
   "cell_type": "markdown",
   "metadata": {},
   "source": [
    "### (optional) Hebrew text analysis - WordNet (for Hebrew)\n",
    "Note: the WordNet is not a must"
   ]
  },
  {
   "cell_type": "markdown",
   "metadata": {},
   "source": [
    "#### (optional) Only if you didn't install Wordnet (for Hebrew) use:"
   ]
  },
  {
   "cell_type": "code",
   "execution_count": 97,
   "metadata": {},
   "outputs": [
    {
     "name": "stdout",
     "output_type": "stream",
     "text": [
      "Requirement already satisfied: wn in c:\\users\\nasth\\anaconda3\\lib\\site-packages (0.9.4)\n",
      "Requirement already satisfied: tomli in c:\\users\\nasth\\anaconda3\\lib\\site-packages (from wn) (1.2.2)\n",
      "Requirement already satisfied: requests in c:\\users\\nasth\\anaconda3\\lib\\site-packages (from wn) (2.27.1)\n",
      "Requirement already satisfied: charset-normalizer~=2.0.0 in c:\\users\\nasth\\anaconda3\\lib\\site-packages (from requests->wn) (2.0.4)\n",
      "Requirement already satisfied: idna<4,>=2.5 in c:\\users\\nasth\\anaconda3\\lib\\site-packages (from requests->wn) (3.3)\n",
      "Requirement already satisfied: certifi>=2017.4.17 in c:\\users\\nasth\\anaconda3\\lib\\site-packages (from requests->wn) (2021.10.8)\n",
      "Requirement already satisfied: urllib3<1.27,>=1.21.1 in c:\\users\\nasth\\anaconda3\\lib\\site-packages (from requests->wn) (1.26.9)\n"
     ]
    },
    {
     "name": "stderr",
     "output_type": "stream",
     "text": [
      "\n",
      "\u001b[KCached file found: C:\\Users\\nasth\\.wn_data\\downloads\\7ecf10e89326bc0ac26ad94b40fe60a7b6ac3302\n",
      "\n",
      "\u001b[KChecking C:\\Users\\nasth\\AppData\\Local\\Temp\\tmpfkshid24\\omw-he\\omw-he.xml\n",
      "\u001b[KSkipping omw-he:1.4 (Hebrew Wordnet); already added\n",
      "\n"
     ]
    }
   ],
   "source": [
    "# word net installation:\n",
    "\n",
    "# unmark if you want to use and need to install\n",
    "!pip install wn\n",
    "!python -m wn download omw-he:1.4"
   ]
  },
  {
   "cell_type": "code",
   "execution_count": 98,
   "metadata": {},
   "outputs": [],
   "source": [
    "# word net import:\n",
    "\n",
    "# unmark if you want to use:\n",
    "import wn"
   ]
  },
  {
   "cell_type": "markdown",
   "metadata": {},
   "source": [
    "### (optional) Hebrew text analysis - hebrew_tokenizer (Tokenizer for Hebrew)\n",
    "Note: the hebrew_tokenizer is not a must"
   ]
  },
  {
   "cell_type": "markdown",
   "metadata": {},
   "source": [
    "#### (optional) Only if you didn't install hebrew_tokenizer use:"
   ]
  },
  {
   "cell_type": "code",
   "execution_count": 99,
   "metadata": {},
   "outputs": [
    {
     "name": "stdout",
     "output_type": "stream",
     "text": [
      "Requirement already satisfied: hebrew_tokenizer in c:\\users\\nasth\\anaconda3\\lib\\site-packages (2.3.0)\n"
     ]
    }
   ],
   "source": [
    "# Hebrew tokenizer installation:\n",
    "\n",
    "# unmark if you want to use and need to install:\n",
    "!pip install hebrew_tokenizer"
   ]
  },
  {
   "cell_type": "code",
   "execution_count": 100,
   "metadata": {},
   "outputs": [],
   "source": [
    "# Hebrew tokenizer import:\n",
    "\n",
    "# unmark if you want to use:\n",
    "import hebrew_tokenizer as ht"
   ]
  },
  {
   "cell_type": "markdown",
   "metadata": {},
   "source": [
    "### Reading input files\n",
    "Reading input files for train annotated corpus (raw text data) corpus and for the test corpus"
   ]
  },
  {
   "cell_type": "code",
   "execution_count": 101,
   "metadata": {},
   "outputs": [],
   "source": [
    "train_filename = 'annotated_corpus_for_train.csv'\n",
    "test_filename  = 'corpus_for_test.csv'\n",
    "df_train = pd.read_csv(train_filename, index_col=None, encoding='utf-8')\n",
    "df_test  = pd.read_csv(test_filename, index_col=None, encoding='utf-8')"
   ]
  },
  {
   "cell_type": "code",
   "execution_count": 102,
   "metadata": {},
   "outputs": [
    {
     "data": {
      "text/html": [
       "<div>\n",
       "<style scoped>\n",
       "    .dataframe tbody tr th:only-of-type {\n",
       "        vertical-align: middle;\n",
       "    }\n",
       "\n",
       "    .dataframe tbody tr th {\n",
       "        vertical-align: top;\n",
       "    }\n",
       "\n",
       "    .dataframe thead th {\n",
       "        text-align: right;\n",
       "    }\n",
       "</style>\n",
       "<table border=\"1\" class=\"dataframe\">\n",
       "  <thead>\n",
       "    <tr style=\"text-align: right;\">\n",
       "      <th></th>\n",
       "      <th>story</th>\n",
       "      <th>gender</th>\n",
       "    </tr>\n",
       "  </thead>\n",
       "  <tbody>\n",
       "    <tr>\n",
       "      <th>0</th>\n",
       "      <td>כשחבר הזמין אותי לחול, לא באמת חשבתי שזה יקרה,...</td>\n",
       "      <td>m</td>\n",
       "    </tr>\n",
       "    <tr>\n",
       "      <th>1</th>\n",
       "      <td>לפני שהתגייסתי לצבא עשיתי כל מני מיונים ליחידו...</td>\n",
       "      <td>m</td>\n",
       "    </tr>\n",
       "    <tr>\n",
       "      <th>2</th>\n",
       "      <td>מאז שהתחילו הלימודים חלומו של כל סטודנט זה הפנ...</td>\n",
       "      <td>f</td>\n",
       "    </tr>\n",
       "    <tr>\n",
       "      <th>3</th>\n",
       "      <td>כשהייתי ילד, מטוסים היה הדבר שהכי ריתק אותי. ב...</td>\n",
       "      <td>m</td>\n",
       "    </tr>\n",
       "    <tr>\n",
       "      <th>4</th>\n",
       "      <td>‏הייתי מדריכה בכפר נוער ומתאם הכפר היינו צריכי...</td>\n",
       "      <td>f</td>\n",
       "    </tr>\n",
       "    <tr>\n",
       "      <th>5</th>\n",
       "      <td>לפני כ3 חודשים טסתי לרומא למשך שבוע. טסתי במטו...</td>\n",
       "      <td>f</td>\n",
       "    </tr>\n",
       "    <tr>\n",
       "      <th>6</th>\n",
       "      <td>אני כבר שנתיים נשוי והשנה אני ואישתי סוף סוף י...</td>\n",
       "      <td>m</td>\n",
       "    </tr>\n",
       "    <tr>\n",
       "      <th>7</th>\n",
       "      <td>השנה התחלנו שיפוץ בדירה שלנו בתל אביב. הדירה ה...</td>\n",
       "      <td>f</td>\n",
       "    </tr>\n",
       "  </tbody>\n",
       "</table>\n",
       "</div>"
      ],
      "text/plain": [
       "                                               story gender\n",
       "0  כשחבר הזמין אותי לחול, לא באמת חשבתי שזה יקרה,...      m\n",
       "1  לפני שהתגייסתי לצבא עשיתי כל מני מיונים ליחידו...      m\n",
       "2  מאז שהתחילו הלימודים חלומו של כל סטודנט זה הפנ...      f\n",
       "3  כשהייתי ילד, מטוסים היה הדבר שהכי ריתק אותי. ב...      m\n",
       "4  ‏הייתי מדריכה בכפר נוער ומתאם הכפר היינו צריכי...      f\n",
       "5  לפני כ3 חודשים טסתי לרומא למשך שבוע. טסתי במטו...      f\n",
       "6  אני כבר שנתיים נשוי והשנה אני ואישתי סוף סוף י...      m\n",
       "7  השנה התחלנו שיפוץ בדירה שלנו בתל אביב. הדירה ה...      f"
      ]
     },
     "execution_count": 102,
     "metadata": {},
     "output_type": "execute_result"
    },
    {
     "data": {
      "text/plain": [
       "(753, 2)"
      ]
     },
     "execution_count": 102,
     "metadata": {},
     "output_type": "execute_result"
    }
   ],
   "source": [
    "df_train.head(8)\n",
    "df_train.shape"
   ]
  },
  {
   "cell_type": "code",
   "execution_count": 103,
   "metadata": {},
   "outputs": [
    {
     "data": {
      "text/html": [
       "<div>\n",
       "<style scoped>\n",
       "    .dataframe tbody tr th:only-of-type {\n",
       "        vertical-align: middle;\n",
       "    }\n",
       "\n",
       "    .dataframe tbody tr th {\n",
       "        vertical-align: top;\n",
       "    }\n",
       "\n",
       "    .dataframe thead th {\n",
       "        text-align: right;\n",
       "    }\n",
       "</style>\n",
       "<table border=\"1\" class=\"dataframe\">\n",
       "  <thead>\n",
       "    <tr style=\"text-align: right;\">\n",
       "      <th></th>\n",
       "      <th>test_example_id</th>\n",
       "      <th>story</th>\n",
       "    </tr>\n",
       "  </thead>\n",
       "  <tbody>\n",
       "    <tr>\n",
       "      <th>0</th>\n",
       "      <td>0</td>\n",
       "      <td>כל קיץ אני והמשפחה נוסעים לארצות הברית לוס אנג...</td>\n",
       "    </tr>\n",
       "    <tr>\n",
       "      <th>1</th>\n",
       "      <td>1</td>\n",
       "      <td>הגעתי לשירות המדינה אחרי שנתיים כפעיל בתנועת \"...</td>\n",
       "    </tr>\n",
       "    <tr>\n",
       "      <th>2</th>\n",
       "      <td>2</td>\n",
       "      <td>אחת האהבות הגדולות שלי אלו הכלבים שלי ושל אישת...</td>\n",
       "    </tr>\n",
       "  </tbody>\n",
       "</table>\n",
       "</div>"
      ],
      "text/plain": [
       "   test_example_id                                              story\n",
       "0                0  כל קיץ אני והמשפחה נוסעים לארצות הברית לוס אנג...\n",
       "1                1  הגעתי לשירות המדינה אחרי שנתיים כפעיל בתנועת \"...\n",
       "2                2  אחת האהבות הגדולות שלי אלו הכלבים שלי ושל אישת..."
      ]
     },
     "execution_count": 103,
     "metadata": {},
     "output_type": "execute_result"
    },
    {
     "data": {
      "text/plain": [
       "(323, 2)"
      ]
     },
     "execution_count": 103,
     "metadata": {},
     "output_type": "execute_result"
    }
   ],
   "source": [
    "df_test.head(3)\n",
    "df_test.shape"
   ]
  },
  {
   "cell_type": "markdown",
   "metadata": {},
   "source": [
    "### Your implementation:\n",
    "Write your code solution in the following code-cells"
   ]
  },
  {
   "cell_type": "markdown",
   "metadata": {},
   "source": [
    "### Part 1: Split the data to X_train, X_test, y_train"
   ]
  },
  {
   "cell_type": "code",
   "execution_count": 104,
   "metadata": {},
   "outputs": [],
   "source": [
    "X_train=df_train.story\n",
    "X_test=df_test.story\n",
    "y_train=df_train.gender"
   ]
  },
  {
   "cell_type": "markdown",
   "metadata": {},
   "source": [
    "### Part 2: Test different variations\n",
    "We will try different variations in order to find the best prediction"
   ]
  },
  {
   "cell_type": "markdown",
   "metadata": {},
   "source": [
    "### Variation 1: K-Nearest Neighbors (KNeighborsClassifier)"
   ]
  },
  {
   "cell_type": "markdown",
   "metadata": {},
   "source": [
    "#### CountVectorizer"
   ]
  },
  {
   "cell_type": "code",
   "execution_count": 105,
   "metadata": {},
   "outputs": [
    {
     "data": {
      "text/plain": [
       "Pipeline(steps=[('vect', CountVectorizer()), ('norm', Normalizer()),\n",
       "                ('clf_knn', KNeighborsClassifier(n_neighbors=13))])"
      ]
     },
     "execution_count": 105,
     "metadata": {},
     "output_type": "execute_result"
    },
    {
     "data": {
      "text/plain": [
       "0.5720510229856024"
      ]
     },
     "execution_count": 105,
     "metadata": {},
     "output_type": "execute_result"
    }
   ],
   "source": [
    "# n_neighbors=13\n",
    "text_clf_knn_count = Pipeline([\n",
    "    ('vect', CountVectorizer()),\n",
    "    ('norm', preprocessing.Normalizer()),\n",
    "    ('clf_knn', KNeighborsClassifier(n_neighbors=13)),\n",
    "])\n",
    "\n",
    "# Fit and evaluate similar to before\n",
    "text_clf_knn_count.fit(X_train, y_train)\n",
    "knn_predictions_count = text_clf_knn_count.predict(X_train)\n",
    "f1_score(y_train, knn_predictions_count,average='macro')"
   ]
  },
  {
   "cell_type": "code",
   "execution_count": 106,
   "metadata": {},
   "outputs": [
    {
     "data": {
      "text/plain": [
       "Pipeline(steps=[('vect', CountVectorizer()), ('norm', Normalizer()),\n",
       "                ('clf_knn', KNeighborsClassifier())])"
      ]
     },
     "execution_count": 106,
     "metadata": {},
     "output_type": "execute_result"
    },
    {
     "data": {
      "text/plain": [
       "0.6898546152430528"
      ]
     },
     "execution_count": 106,
     "metadata": {},
     "output_type": "execute_result"
    }
   ],
   "source": [
    "# n_neighbors=5\n",
    "text_clf_knn_count = Pipeline([\n",
    "    ('vect', CountVectorizer()),\n",
    "    ('norm', preprocessing.Normalizer()),\n",
    "    ('clf_knn', KNeighborsClassifier(n_neighbors=5)),\n",
    "])\n",
    "\n",
    "# Fit and evaluate similar to before\n",
    "text_clf_knn_count.fit(X_train, y_train)\n",
    "knn_predictions_count = text_clf_knn_count.predict(X_train)\n",
    "f1_score(y_train, knn_predictions_count,average='macro')"
   ]
  },
  {
   "cell_type": "markdown",
   "metadata": {},
   "source": [
    "#### TfidfVectorizer"
   ]
  },
  {
   "cell_type": "code",
   "execution_count": 107,
   "metadata": {},
   "outputs": [
    {
     "data": {
      "text/plain": [
       "Pipeline(steps=[('tfidf', TfidfVectorizer()),\n",
       "                ('clf_knn', KNeighborsClassifier())])"
      ]
     },
     "execution_count": 107,
     "metadata": {},
     "output_type": "execute_result"
    },
    {
     "data": {
      "text/plain": [
       "0.7264728437083776"
      ]
     },
     "execution_count": 107,
     "metadata": {},
     "output_type": "execute_result"
    }
   ],
   "source": [
    "text_clf_knn_tf_idf = Pipeline([\n",
    "    ('tfidf', TfidfVectorizer()),\n",
    "    ('clf_knn', KNeighborsClassifier(n_neighbors=5)),\n",
    "])\n",
    "\n",
    "# Fit and evaluate similar to before\n",
    "text_clf_knn_tf_idf.fit(X_train, y_train)\n",
    "knn_predictions_tf_idf = text_clf_knn_tf_idf.predict(X_train)\n",
    "f1_score(y_train, knn_predictions_tf_idf,average='macro')"
   ]
  },
  {
   "cell_type": "markdown",
   "metadata": {},
   "source": [
    "##### Summary of the best result:\n",
    "n_neighbors = 5 | Vectorization: TF-IDF"
   ]
  },
  {
   "cell_type": "markdown",
   "metadata": {},
   "source": [
    "### Variation 2: Decision Tree Classifier (DecisionTreeClassifier)"
   ]
  },
  {
   "cell_type": "markdown",
   "metadata": {},
   "source": [
    "#### CountVectorizer"
   ]
  },
  {
   "cell_type": "code",
   "execution_count": 108,
   "metadata": {},
   "outputs": [
    {
     "data": {
      "text/plain": [
       "Pipeline(steps=[('vect', CountVectorizer(max_features=20)),\n",
       "                ('norm', Normalizer()),\n",
       "                ('clf_dt', DecisionTreeClassifier(max_depth=10))])"
      ]
     },
     "execution_count": 108,
     "metadata": {},
     "output_type": "execute_result"
    },
    {
     "data": {
      "text/plain": [
       "0.9392190495409142"
      ]
     },
     "execution_count": 108,
     "metadata": {},
     "output_type": "execute_result"
    }
   ],
   "source": [
    "# max_features=20, max_depth=10\n",
    "text_clf_dt_count = Pipeline([\n",
    "    ('vect', CountVectorizer(max_features=20)),\n",
    "    ('norm', preprocessing.Normalizer()),\n",
    "    ('clf_dt', DecisionTreeClassifier(max_depth=10)),\n",
    "])\n",
    "\n",
    "# Fit and evaluate similar to before\n",
    "text_clf_dt_count.fit(X_train, y_train)\n",
    "dt_predictions_count = text_clf_dt_count.predict(X_train)\n",
    "f1_score(y_train, dt_predictions_count,average='macro')"
   ]
  },
  {
   "cell_type": "code",
   "execution_count": 109,
   "metadata": {},
   "outputs": [
    {
     "data": {
      "text/plain": [
       "Pipeline(steps=[('vect', CountVectorizer(max_features=3)),\n",
       "                ('norm', Normalizer()),\n",
       "                ('clf_dt', DecisionTreeClassifier(max_depth=10))])"
      ]
     },
     "execution_count": 109,
     "metadata": {},
     "output_type": "execute_result"
    },
    {
     "data": {
      "text/plain": [
       "0.7247213232650127"
      ]
     },
     "execution_count": 109,
     "metadata": {},
     "output_type": "execute_result"
    }
   ],
   "source": [
    "# max_features=3, max_depth=10\n",
    "text_clf_dt_count = Pipeline([\n",
    "    ('vect', CountVectorizer(max_features=3)),\n",
    "    ('norm', preprocessing.Normalizer()),\n",
    "    ('clf_dt', DecisionTreeClassifier(max_depth=10)),\n",
    "])\n",
    "\n",
    "# Fit and evaluate similar to before\n",
    "text_clf_dt_count.fit(X_train, y_train)\n",
    "dt_predictions_count = text_clf_dt_count.predict(X_train)\n",
    "f1_score(y_train, dt_predictions_count,average='macro')"
   ]
  },
  {
   "cell_type": "code",
   "execution_count": 110,
   "metadata": {},
   "outputs": [
    {
     "data": {
      "text/plain": [
       "Pipeline(steps=[('vect', CountVectorizer(max_features=3)),\n",
       "                ('norm', Normalizer()),\n",
       "                ('clf_dt', DecisionTreeClassifier(max_depth=15))])"
      ]
     },
     "execution_count": 110,
     "metadata": {},
     "output_type": "execute_result"
    },
    {
     "data": {
      "text/plain": [
       "0.7978675428424172"
      ]
     },
     "execution_count": 110,
     "metadata": {},
     "output_type": "execute_result"
    }
   ],
   "source": [
    "# max_features=3, max_depth=15\n",
    "text_clf_dt_count = Pipeline([\n",
    "    ('vect', CountVectorizer(max_features=3)),\n",
    "    ('norm', preprocessing.Normalizer()),\n",
    "    ('clf_dt', DecisionTreeClassifier(max_depth=15)),\n",
    "])\n",
    "\n",
    "# Fit and evaluate similar to before\n",
    "text_clf_dt_count.fit(X_train, y_train)\n",
    "dt_predictions_count = text_clf_dt_count.predict(X_train)\n",
    "f1_score(y_train, dt_predictions_count,average='macro')"
   ]
  },
  {
   "cell_type": "markdown",
   "metadata": {},
   "source": [
    "##### TfidfVectorizer"
   ]
  },
  {
   "cell_type": "code",
   "execution_count": 111,
   "metadata": {},
   "outputs": [
    {
     "data": {
      "text/plain": [
       "Pipeline(steps=[('tfidf', TfidfVectorizer(max_features=20)),\n",
       "                ('clf_dt', DecisionTreeClassifier(max_depth=10))])"
      ]
     },
     "execution_count": 111,
     "metadata": {},
     "output_type": "execute_result"
    },
    {
     "data": {
      "text/plain": [
       "0.9486088677571264"
      ]
     },
     "execution_count": 111,
     "metadata": {},
     "output_type": "execute_result"
    }
   ],
   "source": [
    "# max_features=20, max_depth=10\n",
    "text_clf_dt_tf_idf = Pipeline([\n",
    "    ('tfidf', TfidfVectorizer(max_features=20)),\n",
    "    ('clf_dt', DecisionTreeClassifier(max_depth=10)),\n",
    "])\n",
    "\n",
    "# Fit and evaluate similar to before\n",
    "text_clf_dt_tf_idf.fit(X_train, y_train)\n",
    "dt_predictions_tf_idf = text_clf_dt_tf_idf.predict(X_train)\n",
    "f1_score(y_train, dt_predictions_tf_idf,average='macro')"
   ]
  },
  {
   "cell_type": "code",
   "execution_count": 112,
   "metadata": {},
   "outputs": [
    {
     "data": {
      "text/plain": [
       "Pipeline(steps=[('tfidf', TfidfVectorizer(max_features=3)),\n",
       "                ('clf_dt', DecisionTreeClassifier(max_depth=10))])"
      ]
     },
     "execution_count": 112,
     "metadata": {},
     "output_type": "execute_result"
    },
    {
     "data": {
      "text/plain": [
       "0.6838868996172367"
      ]
     },
     "execution_count": 112,
     "metadata": {},
     "output_type": "execute_result"
    }
   ],
   "source": [
    "# max_features=3, max_depth=10\n",
    "text_clf_dt_tf_idf = Pipeline([\n",
    "    ('tfidf', TfidfVectorizer(max_features=3)),\n",
    "    ('clf_dt', DecisionTreeClassifier(max_depth=10)),\n",
    "])\n",
    "\n",
    "# Fit and evaluate similar to before\n",
    "text_clf_dt_tf_idf.fit(X_train, y_train)\n",
    "dt_predictions_tf_idf = text_clf_dt_tf_idf.predict(X_train)\n",
    "f1_score(y_train, dt_predictions_tf_idf,average='macro')"
   ]
  },
  {
   "cell_type": "code",
   "execution_count": 113,
   "metadata": {},
   "outputs": [
    {
     "data": {
      "text/plain": [
       "Pipeline(steps=[('tfidf', TfidfVectorizer(max_features=3)),\n",
       "                ('clf_dt', DecisionTreeClassifier(max_depth=15))])"
      ]
     },
     "execution_count": 113,
     "metadata": {},
     "output_type": "execute_result"
    },
    {
     "data": {
      "text/plain": [
       "0.808847737164003"
      ]
     },
     "execution_count": 113,
     "metadata": {},
     "output_type": "execute_result"
    }
   ],
   "source": [
    "# max_features=3, max_depth=15\n",
    "text_clf_dt_tf_idf = Pipeline([\n",
    "    ('tfidf', TfidfVectorizer(max_features=3)),\n",
    "    ('clf_dt', DecisionTreeClassifier(max_depth=15)),\n",
    "])\n",
    "\n",
    "# Fit and evaluate similar to before\n",
    "text_clf_dt_tf_idf.fit(X_train, y_train)\n",
    "dt_predictions_tf_idf = text_clf_dt_tf_idf.predict(X_train)\n",
    "f1_score(y_train, dt_predictions_tf_idf,average='macro')"
   ]
  },
  {
   "cell_type": "markdown",
   "metadata": {},
   "source": [
    "##### Summary of the best result:\n",
    "max_features=3 | max_depth=15 | Vectorization: TF-IDF"
   ]
  },
  {
   "cell_type": "markdown",
   "metadata": {},
   "source": [
    "### Variation 3: Multinomial Naive Bayes Classifier (MultinomialNB)"
   ]
  },
  {
   "cell_type": "markdown",
   "metadata": {},
   "source": [
    "#### CountVectorizer"
   ]
  },
  {
   "cell_type": "code",
   "execution_count": 114,
   "metadata": {},
   "outputs": [
    {
     "data": {
      "text/plain": [
       "Pipeline(steps=[('vect', CountVectorizer(max_features=100)),\n",
       "                ('norm', Normalizer()), ('clf_dt', MultinomialNB())])"
      ]
     },
     "execution_count": 114,
     "metadata": {},
     "output_type": "execute_result"
    },
    {
     "data": {
      "text/plain": [
       "0.4329819277108434"
      ]
     },
     "execution_count": 114,
     "metadata": {},
     "output_type": "execute_result"
    }
   ],
   "source": [
    "# max_features=100, norm l1\n",
    "text_clf_nb_count = Pipeline([\n",
    "    ('vect', CountVectorizer(max_features=100)),\n",
    "    ('norm', preprocessing.Normalizer()),\n",
    "    ('clf_dt', MultinomialNB()),\n",
    "])\n",
    "\n",
    "# Fit and evaluate similar to before\n",
    "text_clf_nb_count.fit(X_train, y_train)\n",
    "nb_predictions_count = text_clf_nb_count.predict(X_train)\n",
    "f1_score(y_train, nb_predictions_count,average='macro')"
   ]
  },
  {
   "cell_type": "code",
   "execution_count": 115,
   "metadata": {},
   "outputs": [
    {
     "data": {
      "text/plain": [
       "Pipeline(steps=[('vect', CountVectorizer(max_features=20)),\n",
       "                ('clf_dt', MultinomialNB())])"
      ]
     },
     "execution_count": 115,
     "metadata": {},
     "output_type": "execute_result"
    },
    {
     "data": {
      "text/plain": [
       "0.5983821503177918"
      ]
     },
     "execution_count": 115,
     "metadata": {},
     "output_type": "execute_result"
    }
   ],
   "source": [
    "# max_features=20, norm = l2\n",
    "text_clf_nb_count = Pipeline([\n",
    "    ('vect', CountVectorizer(max_features=20)),\n",
    "    ('clf_dt', MultinomialNB()),\n",
    "])\n",
    "\n",
    "# Fit and evaluate similar to before\n",
    "text_clf_nb_count.fit(X_train, y_train)\n",
    "nb_predictions_count = text_clf_nb_count.predict(X_train)\n",
    "f1_score(y_train, nb_predictions_count,average='macro')"
   ]
  },
  {
   "cell_type": "markdown",
   "metadata": {},
   "source": [
    "##### TfidfVectorizer"
   ]
  },
  {
   "cell_type": "code",
   "execution_count": 116,
   "metadata": {},
   "outputs": [
    {
     "data": {
      "text/plain": [
       "Pipeline(steps=[('vect', TfidfVectorizer(max_features=20)),\n",
       "                ('clf_dt', MultinomialNB())])"
      ]
     },
     "execution_count": 116,
     "metadata": {},
     "output_type": "execute_result"
    },
    {
     "data": {
      "text/plain": [
       "0.4329819277108434"
      ]
     },
     "execution_count": 116,
     "metadata": {},
     "output_type": "execute_result"
    }
   ],
   "source": [
    "# max_features=20\n",
    "text_clf_nb_tf_idf = Pipeline([\n",
    "    ('vect', TfidfVectorizer(max_features=20)),\n",
    "    ('clf_dt', MultinomialNB()),\n",
    "])\n",
    "\n",
    "# Fit and evaluate similar to before\n",
    "text_clf_nb_tf_idf.fit(X_train, y_train)\n",
    "nb_predictions_tf_idf = text_clf_nb_tf_idf.predict(X_train)\n",
    "f1_score(y_train, nb_predictions_tf_idf,average='macro')"
   ]
  },
  {
   "cell_type": "markdown",
   "metadata": {},
   "source": [
    "##### Summary of the best result:\n",
    "max_features=20 | norm = l2 | Vectorization: Count"
   ]
  },
  {
   "cell_type": "markdown",
   "metadata": {},
   "source": [
    "### Variation 4: Support Vector Machine (SVM) Classifier (Linear SVC)"
   ]
  },
  {
   "cell_type": "markdown",
   "metadata": {},
   "source": [
    "#### CountVectorizer"
   ]
  },
  {
   "cell_type": "code",
   "execution_count": 117,
   "metadata": {},
   "outputs": [
    {
     "data": {
      "text/plain": [
       "Pipeline(steps=[('vect', CountVectorizer(max_features=100)),\n",
       "                ('norm', Normalizer()), ('clf_svm', LinearSVC())])"
      ]
     },
     "execution_count": 117,
     "metadata": {},
     "output_type": "execute_result"
    },
    {
     "data": {
      "text/plain": [
       "0.6257256845956047"
      ]
     },
     "execution_count": 117,
     "metadata": {},
     "output_type": "execute_result"
    }
   ],
   "source": [
    "# max_features=100\n",
    "text_clf_svm_count = Pipeline([\n",
    "    ('vect', CountVectorizer(max_features=100)),\n",
    "    ('norm', preprocessing.Normalizer()),\n",
    "    ('clf_svm', LinearSVC()),\n",
    "])\n",
    "\n",
    "# Fit and evaluate similar to before\n",
    "text_clf_svm_count.fit(X_train, y_train)\n",
    "svm_predictions_count = text_clf_svm_count.predict(X_train)\n",
    "f1_score(y_train, svm_predictions_count,average='macro')"
   ]
  },
  {
   "cell_type": "code",
   "execution_count": 118,
   "metadata": {},
   "outputs": [
    {
     "data": {
      "text/plain": [
       "Pipeline(steps=[('vect', CountVectorizer(max_features=500)),\n",
       "                ('norm', Normalizer()), ('clf_svm', LinearSVC())])"
      ]
     },
     "execution_count": 118,
     "metadata": {},
     "output_type": "execute_result"
    },
    {
     "data": {
      "text/plain": [
       "0.8368568691844553"
      ]
     },
     "execution_count": 118,
     "metadata": {},
     "output_type": "execute_result"
    }
   ],
   "source": [
    "# max_features=500\n",
    "text_clf_svm_count = Pipeline([\n",
    "    ('vect', CountVectorizer(max_features=500)),\n",
    "    ('norm', preprocessing.Normalizer()),\n",
    "    ('clf_svm', LinearSVC()),\n",
    "])\n",
    "\n",
    "# Fit and evaluate similar to before\n",
    "text_clf_svm_count.fit(X_train, y_train)\n",
    "svm_predictions_count = text_clf_svm_count.predict(X_train)\n",
    "f1_score(y_train, svm_predictions_count,average='macro')"
   ]
  },
  {
   "cell_type": "markdown",
   "metadata": {},
   "source": [
    "##### TfidfVectorizer"
   ]
  },
  {
   "cell_type": "code",
   "execution_count": 119,
   "metadata": {},
   "outputs": [
    {
     "data": {
      "text/plain": [
       "Pipeline(steps=[('vect', TfidfVectorizer(max_features=100)),\n",
       "                ('norm', Normalizer()), ('clf_svm', LinearSVC())])"
      ]
     },
     "execution_count": 119,
     "metadata": {},
     "output_type": "execute_result"
    },
    {
     "data": {
      "text/plain": [
       "0.6629482071713146"
      ]
     },
     "execution_count": 119,
     "metadata": {},
     "output_type": "execute_result"
    }
   ],
   "source": [
    "# max_features=100\n",
    "text_clf_svm_tf_idf = Pipeline([\n",
    "    ('vect', TfidfVectorizer(max_features=100)),\n",
    "    ('norm', preprocessing.Normalizer()),\n",
    "    ('clf_svm', LinearSVC()),\n",
    "])\n",
    "\n",
    "# Fit and evaluate similar to before\n",
    "text_clf_svm_tf_idf.fit(X_train, y_train)\n",
    "svm_predictions_tf_idf = text_clf_svm_tf_idf.predict(X_train)\n",
    "f1_score(y_train, svm_predictions_tf_idf,average='macro')"
   ]
  },
  {
   "cell_type": "code",
   "execution_count": 120,
   "metadata": {},
   "outputs": [
    {
     "data": {
      "text/plain": [
       "Pipeline(steps=[('vect', TfidfVectorizer(max_features=500)),\n",
       "                ('norm', Normalizer()), ('clf_svm', LinearSVC())])"
      ]
     },
     "execution_count": 120,
     "metadata": {},
     "output_type": "execute_result"
    },
    {
     "data": {
      "text/plain": [
       "0.9047639123102866"
      ]
     },
     "execution_count": 120,
     "metadata": {},
     "output_type": "execute_result"
    }
   ],
   "source": [
    "# max_features=500\n",
    "text_clf_svm_tf_idf = Pipeline([\n",
    "    ('vect', TfidfVectorizer(max_features=500)),\n",
    "    ('norm', preprocessing.Normalizer()),\n",
    "    ('clf_svm', LinearSVC()),\n",
    "])\n",
    "\n",
    "# Fit and evaluate similar to before\n",
    "text_clf_svm_tf_idf.fit(X_train, y_train)\n",
    "svm_predictions_tf_idf = text_clf_svm_tf_idf.predict(X_train)\n",
    "f1_score(y_train, svm_predictions_tf_idf,average='macro')"
   ]
  },
  {
   "cell_type": "markdown",
   "metadata": {},
   "source": [
    "##### Summary of the best result:\n",
    "max_features=500 | Vectorization: TF-IDF"
   ]
  },
  {
   "cell_type": "markdown",
   "metadata": {},
   "source": [
    "### Variation 5: Multi-Layer Perceptron Classifier (MLPClassifier)"
   ]
  },
  {
   "cell_type": "markdown",
   "metadata": {},
   "source": [
    "#### CountVectorizer"
   ]
  },
  {
   "cell_type": "code",
   "execution_count": 121,
   "metadata": {},
   "outputs": [
    {
     "data": {
      "text/plain": [
       "Pipeline(steps=[('vect', CountVectorizer(max_features=20)),\n",
       "                ('norm', Normalizer()), ('clf_mlp', MLPClassifier())])"
      ]
     },
     "execution_count": 121,
     "metadata": {},
     "output_type": "execute_result"
    },
    {
     "data": {
      "text/plain": [
       "0.6107311995836586"
      ]
     },
     "execution_count": 121,
     "metadata": {},
     "output_type": "execute_result"
    }
   ],
   "source": [
    "# max_features=20, norm l1\n",
    "text_clf_mlp_count = Pipeline([\n",
    "    ('vect', CountVectorizer(max_features=20)),\n",
    "    ('norm', preprocessing.Normalizer()),\n",
    "    ('clf_mlp', MLPClassifier()),\n",
    "])\n",
    "\n",
    "# Fit and evaluate similar to before\n",
    "text_clf_mlp_count.fit(X_train, y_train)\n",
    "mlp_predictions_count = text_clf_mlp_count.predict(X_train)\n",
    "f1_score(y_train, mlp_predictions_count,average='macro')"
   ]
  },
  {
   "cell_type": "code",
   "execution_count": 122,
   "metadata": {},
   "outputs": [
    {
     "data": {
      "text/plain": [
       "Pipeline(steps=[('vect', CountVectorizer(max_features=20)),\n",
       "                ('clf_mlp', MLPClassifier())])"
      ]
     },
     "execution_count": 122,
     "metadata": {},
     "output_type": "execute_result"
    },
    {
     "data": {
      "text/plain": [
       "0.8622705122780198"
      ]
     },
     "execution_count": 122,
     "metadata": {},
     "output_type": "execute_result"
    }
   ],
   "source": [
    "# max_features=20, norm l2\n",
    "text_clf_mlp_count = Pipeline([\n",
    "    ('vect', CountVectorizer(max_features=20)),\n",
    "    ('clf_mlp', MLPClassifier()),\n",
    "])\n",
    "\n",
    "# Fit and evaluate similar to before\n",
    "text_clf_mlp_count.fit(X_train, y_train)\n",
    "mlp_predictions_count = text_clf_mlp_count.predict(X_train)\n",
    "f1_score(y_train, mlp_predictions_count,average='macro')"
   ]
  },
  {
   "cell_type": "markdown",
   "metadata": {},
   "source": [
    "##### TfidfVectorizer"
   ]
  },
  {
   "cell_type": "code",
   "execution_count": 123,
   "metadata": {},
   "outputs": [
    {
     "data": {
      "text/plain": [
       "Pipeline(steps=[('vect', TfidfVectorizer(max_features=20)),\n",
       "                ('clf_mlp', MLPClassifier())])"
      ]
     },
     "execution_count": 123,
     "metadata": {},
     "output_type": "execute_result"
    },
    {
     "data": {
      "text/plain": [
       "0.6163326300383336"
      ]
     },
     "execution_count": 123,
     "metadata": {},
     "output_type": "execute_result"
    }
   ],
   "source": [
    "text_clf_mlp_tf_idf = Pipeline([\n",
    "    ('vect', TfidfVectorizer(max_features=20)),\n",
    "    ('clf_mlp', MLPClassifier()),\n",
    "])\n",
    "\n",
    "# Fit and evaluate similar to before\n",
    "text_clf_mlp_tf_idf.fit(X_train, y_train)\n",
    "mlp_predictions_tf_idf = text_clf_mlp_tf_idf.predict(X_train)\n",
    "f1_score(y_train, mlp_predictions_tf_idf,average='macro')"
   ]
  },
  {
   "cell_type": "markdown",
   "metadata": {},
   "source": [
    "##### Summary of the best result:\n",
    "max_features=20 | norm = L2 | Vectorization: Count"
   ]
  },
  {
   "cell_type": "markdown",
   "metadata": {},
   "source": [
    "### Part 3: Predict\n",
    "From our previous testing, we see that out best option is Multi-Layer Perceptron Classifier with Counter. Let's predict!"
   ]
  },
  {
   "cell_type": "markdown",
   "metadata": {},
   "source": [
    "#### FIt with Hyper parameters using GridSearchCV"
   ]
  },
  {
   "cell_type": "code",
   "execution_count": 124,
   "metadata": {},
   "outputs": [
    {
     "data": {
      "text/plain": [
       "GridSearchCV(cv=5,\n",
       "             estimator=Pipeline(steps=[('vect',\n",
       "                                        CountVectorizer(max_features=20)),\n",
       "                                       ('clf_mlp', MLPClassifier())]),\n",
       "             param_grid={'clf_mlp__activation': ['logistic', 'relu'],\n",
       "                         'clf_mlp__hidden_layer_sizes': [(50,), (100,),\n",
       "                                                         (50, 50), (100, 50)]})"
      ]
     },
     "execution_count": 124,
     "metadata": {},
     "output_type": "execute_result"
    },
    {
     "name": "stdout",
     "output_type": "stream",
     "text": [
      "Best parameters: {'clf_mlp__activation': 'logistic', 'clf_mlp__hidden_layer_sizes': (100,)}\n"
     ]
    }
   ],
   "source": [
    "# max_features=20, norm l2\n",
    "text_clf_mlp_count = Pipeline([\n",
    "    ('vect', CountVectorizer(max_features=20)),\n",
    "    ('clf_mlp', MLPClassifier()),\n",
    "])\n",
    "\n",
    "param_grid = {\n",
    "    'clf_mlp__hidden_layer_sizes': [(50,), (100,), (50, 50), (100, 50)],\n",
    "    'clf_mlp__activation': ['logistic', 'relu'],\n",
    "}\n",
    "\n",
    "# Perform grid search with cross-validation\n",
    "grid_search = GridSearchCV(text_clf_mlp_count, param_grid, cv=5)\n",
    "grid_search.fit(X_train, y_train)\n",
    "\n",
    "print(\"Best parameters:\", grid_search.best_params_)"
   ]
  },
  {
   "cell_type": "markdown",
   "metadata": {},
   "source": [
    "#### Cross validation"
   ]
  },
  {
   "cell_type": "code",
   "execution_count": 125,
   "metadata": {},
   "outputs": [
    {
     "name": "stdout",
     "output_type": "stream",
     "text": [
      "Cross-validation scores: [0.7615894  0.75496689 0.76821192 0.75333333 0.77333333]\n",
      "Mean accuracy: 0.7622869757174393\n"
     ]
    }
   ],
   "source": [
    "# Use cross_val_score to evaluate the model with best parameters\n",
    "best_mlp = grid_search.best_estimator_\n",
    "cv_scores = cross_val_score(best_mlp, X_train, y_train, cv=5)  # 5-fold cross-validation\n",
    "print(\"Cross-validation scores:\", cv_scores)\n",
    "print(\"Mean accuracy:\", cv_scores.mean())"
   ]
  },
  {
   "cell_type": "markdown",
   "metadata": {},
   "source": [
    "#### Predict"
   ]
  },
  {
   "cell_type": "code",
   "execution_count": 126,
   "metadata": {},
   "outputs": [],
   "source": [
    "predicted = best_mlp.predict(X_test)"
   ]
  },
  {
   "cell_type": "markdown",
   "metadata": {},
   "source": [
    "#### Adding the predicted gender to our test data"
   ]
  },
  {
   "cell_type": "code",
   "execution_count": 133,
   "metadata": {},
   "outputs": [],
   "source": [
    "test_predicted = df_test.copy()\n",
    "test_predicted['gender'] = 0\n",
    "for i in range(0,len(test_predicted['test_example_id'])):\n",
    "    test_predicted['gender'][i] = predicted[i]\n",
    "\n",
    "df_test_predicted = pd.DataFrame(columns = ['test_example_id','predicted_category'])\n",
    "\n",
    "df_test_predicted['test_example_id'] = df_test['test_example_id']\n",
    "df_test_predicted['predicted_category'] = test_predicted['gender']"
   ]
  },
  {
   "cell_type": "code",
   "execution_count": 140,
   "metadata": {},
   "outputs": [
    {
     "data": {
      "text/html": [
       "<div>\n",
       "<style scoped>\n",
       "    .dataframe tbody tr th:only-of-type {\n",
       "        vertical-align: middle;\n",
       "    }\n",
       "\n",
       "    .dataframe tbody tr th {\n",
       "        vertical-align: top;\n",
       "    }\n",
       "\n",
       "    .dataframe thead th {\n",
       "        text-align: right;\n",
       "    }\n",
       "</style>\n",
       "<table border=\"1\" class=\"dataframe\">\n",
       "  <thead>\n",
       "    <tr style=\"text-align: right;\">\n",
       "      <th></th>\n",
       "      <th>test_example_id</th>\n",
       "      <th>predicted_category</th>\n",
       "    </tr>\n",
       "  </thead>\n",
       "  <tbody>\n",
       "    <tr>\n",
       "      <th>0</th>\n",
       "      <td>0</td>\n",
       "      <td>m</td>\n",
       "    </tr>\n",
       "    <tr>\n",
       "      <th>1</th>\n",
       "      <td>1</td>\n",
       "      <td>m</td>\n",
       "    </tr>\n",
       "    <tr>\n",
       "      <th>2</th>\n",
       "      <td>2</td>\n",
       "      <td>m</td>\n",
       "    </tr>\n",
       "    <tr>\n",
       "      <th>3</th>\n",
       "      <td>3</td>\n",
       "      <td>m</td>\n",
       "    </tr>\n",
       "    <tr>\n",
       "      <th>4</th>\n",
       "      <td>4</td>\n",
       "      <td>m</td>\n",
       "    </tr>\n",
       "    <tr>\n",
       "      <th>...</th>\n",
       "      <td>...</td>\n",
       "      <td>...</td>\n",
       "    </tr>\n",
       "    <tr>\n",
       "      <th>318</th>\n",
       "      <td>318</td>\n",
       "      <td>m</td>\n",
       "    </tr>\n",
       "    <tr>\n",
       "      <th>319</th>\n",
       "      <td>319</td>\n",
       "      <td>m</td>\n",
       "    </tr>\n",
       "    <tr>\n",
       "      <th>320</th>\n",
       "      <td>320</td>\n",
       "      <td>m</td>\n",
       "    </tr>\n",
       "    <tr>\n",
       "      <th>321</th>\n",
       "      <td>321</td>\n",
       "      <td>m</td>\n",
       "    </tr>\n",
       "    <tr>\n",
       "      <th>322</th>\n",
       "      <td>322</td>\n",
       "      <td>m</td>\n",
       "    </tr>\n",
       "  </tbody>\n",
       "</table>\n",
       "<p>323 rows × 2 columns</p>\n",
       "</div>"
      ],
      "text/plain": [
       "     test_example_id predicted_category\n",
       "0                  0                  m\n",
       "1                  1                  m\n",
       "2                  2                  m\n",
       "3                  3                  m\n",
       "4                  4                  m\n",
       "..               ...                ...\n",
       "318              318                  m\n",
       "319              319                  m\n",
       "320              320                  m\n",
       "321              321                  m\n",
       "322              322                  m\n",
       "\n",
       "[323 rows x 2 columns]"
      ]
     },
     "execution_count": 140,
     "metadata": {},
     "output_type": "execute_result"
    }
   ],
   "source": [
    "df_test_predicted"
   ]
  },
  {
   "cell_type": "markdown",
   "metadata": {},
   "source": [
    "### Save output to csv (optional)\n",
    "After you're done save your output to the 'classification_results.csv' csv file.<br/>\n",
    "We assume that the dataframe with your results contain the following columns:\n",
    "* column 1 (left column): 'test_example_id'  - the same id associated to each of the test stories to be predicted.\n",
    "* column 2 (right column): 'predicted_category' - the predicted gender value for each of the associated story. \n",
    "\n",
    "Assuming your predicted values are in the `df_predicted` dataframe, you should save you're results as following:"
   ]
  },
  {
   "cell_type": "code",
   "execution_count": 141,
   "metadata": {},
   "outputs": [],
   "source": [
    "df_test_predicted.to_csv('classification_results.csv',index=False)"
   ]
  }
 ],
 "metadata": {
  "celltoolbar": "Create Assignment",
  "kernelspec": {
   "display_name": "Python 3 (ipykernel)",
   "language": "python",
   "name": "python3"
  },
  "language_info": {
   "codemirror_mode": {
    "name": "ipython",
    "version": 3
   },
   "file_extension": ".py",
   "mimetype": "text/x-python",
   "name": "python",
   "nbconvert_exporter": "python",
   "pygments_lexer": "ipython3",
   "version": "3.9.12"
  }
 },
 "nbformat": 4,
 "nbformat_minor": 4
}
